{
  "cells": [
    {
      "cell_type": "markdown",
      "metadata": {
        "id": "view-in-github",
        "colab_type": "text"
      },
      "source": [
        "<a href=\"https://colab.research.google.com/github/Pravinbachute/Deep-Learning-and-NLP/blob/main/ANN.ipynb\" target=\"_parent\"><img src=\"https://colab.research.google.com/assets/colab-badge.svg\" alt=\"Open In Colab\"/></a>"
      ]
    },
    {
      "cell_type": "code",
      "execution_count": null,
      "metadata": {
        "id": "Beo5ABOV9pcO"
      },
      "outputs": [],
      "source": [
        "import numpy as np\n",
        "from tensorflow.keras.models import Sequential\n",
        "from tensorflow.keras.layers import Dense\n",
        "from tensorflow.keras.utils import to_categorical\n",
        "\n",
        "X = np.random.rand(1000, 5)\n",
        "y = np.random.randint(0, 3, size=(1000,))\n",
        "\n",
        "y_encoded = to_categorical(y, num_classes=3)\n",
        "\n",
        "model = Sequential()\n",
        "model.add(Dense(10, input_shape=(5,), activation='relu'))\n",
        "model.add(Dense(8, activation='relu'))\n",
        "model.add(Dense(3, activation='softmax'))\n",
        "\n",
        "model.compile(optimizer='adam', loss='categorical_crossentropy', metrics=['accuracy'])\n",
        "\n",
        "model.fit(X, y_encoded, epochs=20, batch_size=10, verbose=1)\n",
        "\n",
        "X_new = np.random.rand(5, 5)\n",
        "predictions = model.predict(X_new)\n",
        "\n",
        "print(\"\\nPredictions:\")\n",
        "print(predictions)\n"
      ]
    },
    {
      "cell_type": "code",
      "execution_count": null,
      "metadata": {
        "colab": {
          "background_save": true,
          "base_uri": "https://localhost:8080/"
        },
        "id": "klUA3dVvAhfP",
        "outputId": "79bf7662-25f0-43b3-f293-0390d2559ec6"
      },
      "outputs": [
        {
          "name": "stdout",
          "output_type": "stream",
          "text": [
            "Enter 4 examples for AND logic (2 inputs each, output 0 or 1):\n"
          ]
        }
      ],
      "source": [
        "import numpy as np\n",
        "\n",
        "def step_function(x):\n",
        "    return 1 if x >= 0 else 0\n",
        "\n",
        "class Perceptron:\n",
        "    def __init__(self, input_size, learning_rate=0.1, epochs=10):\n",
        "        self.weights = np.zeros(input_size + 1)\n",
        "        self.learning_rate = learning_rate\n",
        "        self.epochs = epochs\n",
        "\n",
        "    def predict(self, x):\n",
        "        x = np.insert(x, 0, 1)\n",
        "        result = np.dot(self.weights, x)\n",
        "        return step_function(result)\n",
        "\n",
        "    def train(self, X, y):\n",
        "        for epoch in range(self.epochs):\n",
        "            print(f\"\\nEpoch {epoch + 1}\")\n",
        "            for inputs, label in zip(X, y):\n",
        "                x_with_bias = np.insert(inputs, 0, 1)\n",
        "                prediction = self.predict(inputs)\n",
        "                error = label - prediction\n",
        "\n",
        "                print(f\"Input: {inputs}, Label: {label}, Prediction: {prediction}, Error: {error}\")\n",
        "                print(f\"Before update: {self.weights}\")\n",
        "\n",
        "                self.weights += self.learning_rate * error * x_with_bias\n",
        "\n",
        "\n",
        "                print(f\"After update:  {self.weights}\")\n",
        "\n",
        "print(\"Enter 4 examples for AND logic (2 inputs each, output 0 or 1):\")\n",
        "X = []\n",
        "y = []\n",
        "for i in range(4):\n",
        "    x1 = int(input(f\"Input {i+1} - x1: \"))\n",
        "    x2 = int(input(f\"Input {i+1} - x2: \"))\n",
        "    out = int(input(f\"Expected output (0 or 1): \"))\n",
        "    X.append([x1, x2])\n",
        "    y.append(out)\n",
        "\n",
        "X = np.array(X)\n",
        "y = np.array(y)\n",
        "\n",
        "p = Perceptron(input_size=2)\n",
        "p.train(X, y)\n",
        "\n",
        "print(\"\\nFinal Weights:\", p.weights)\n",
        "print(\"\\nTesting Trained Perceptron:\")\n",
        "for x in X:\n",
        "    print(f\"Input: {x}, Predicted Output: {p.predict(x)}\")\n"
      ]
    },
    {
      "cell_type": "code",
      "execution_count": null,
      "metadata": {
        "id": "ub8igb7HCBWY"
      },
      "outputs": [],
      "source": [
        "import numpy as np\n",
        "\n",
        "def step_function(x):\n",
        "    return 1 if x >= 0 else 0\n",
        "\n",
        "class Perceptron:\n",
        "    def __init__(self, input_size, learning_rate=0.1, epochs=10):\n",
        "        self.weights = np.zeros(input_size + 1)\n",
        "        self.learning_rate = learning_rate\n",
        "        self.epochs = epochs\n",
        "\n",
        "    def predict(self, x):\n",
        "        x = np.insert(x, 0, 1)\n",
        "        summation = np.dot(self.weights, x)\n",
        "        return step_function(summation)\n",
        "\n",
        "    def train(self, X, y):\n",
        "        for _ in range(self.epochs):\n",
        "            for inputs, label in zip(X, y):\n",
        "                prediction = self.predict(inputs)\n",
        "                error = label - prediction\n",
        "                inputs_with_bias = np.insert(inputs, 0, 1)\n",
        "                self.weights += self.learning_rate * error * inputs_with_bias\n",
        "\n",
        "# Inputs: [x1, x2]\n",
        "X = np.array([[0, 0], [0, 1], [1, 0], [1, 1]])\n",
        "# Labels: AND logic\n",
        "y = np.array([0, 0, 0, 1])\n",
        "\n",
        "p = Perceptron(input_size=2)\n",
        "p.train(X, y)\n",
        "\n",
        "print(\"Testing Perceptron on AND logic:\")\n",
        "for x in X:\n",
        "    print(f\"Input: {x}, Predicted Output: {p.predict(x)}\")\n"
      ]
    },
    {
      "cell_type": "code",
      "execution_count": null,
      "metadata": {
        "id": "mFVsOBGZCCLv"
      },
      "outputs": [],
      "source": [
        "import numpy as np\n",
        "\n",
        "def step_function(x):\n",
        "    return 1 if x >= 0 else 0\n",
        "\n",
        "def loss(y_true, y_pred):\n",
        "    return (y_true - y_pred) ** 2\n",
        "\n",
        "def cost(y_true_all, y_pred_all):\n",
        "    errors = [(yt - yp) ** 2 for yt, yp in zip(y_true_all, y_pred_all)]\n",
        "    return sum(errors) / len(errors)\n",
        "\n",
        "X = np.array([[0, 0], [0, 1], [1, 0], [1, 1]])\n",
        "y_true = np.array([0, 0, 0, 1])\n",
        "\n",
        "weights = np.array([0.5, 0.5])\n",
        "bias = -0.7\n",
        "\n",
        "y_pred = []\n",
        "for x in X:\n",
        "    result = np.dot(weights, x) + bias\n",
        "    pred = step_function(result)\n",
        "    y_pred.append(pred)\n",
        "\n",
        "print(\"Predictions and Loss:\")\n",
        "for i in range(len(X)):\n",
        "    print(f\"Input: {X[i]}, Prediction: {y_pred[i]}, True: {y_true[i]}, Loss: {loss(y_true[i], y_pred[i])}\")\n",
        "\n",
        "print(\"\\nTotal Cost:\", cost(y_true, y_pred))"
      ]
    },
    {
      "cell_type": "code",
      "execution_count": null,
      "metadata": {
        "id": "2EqU-VkzCCiw"
      },
      "outputs": [],
      "source": []
    }
  ],
  "metadata": {
    "colab": {
      "provenance": [],
      "authorship_tag": "ABX9TyNZq1i6WF90TXnC89XQiz5O",
      "include_colab_link": true
    },
    "kernelspec": {
      "display_name": "Python 3",
      "name": "python3"
    },
    "language_info": {
      "name": "python"
    }
  },
  "nbformat": 4,
  "nbformat_minor": 0
}